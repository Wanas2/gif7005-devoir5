{
 "cells": [
  {
   "cell_type": "markdown",
   "id": "14ac35f3",
   "metadata": {
    "editable": false,
    "id": "605f8d04",
    "lang": "fr",
    "tags": [
     "problem-title"
    ]
   },
   "source": [
    "# Devoir 5, Question 2 : Sélection de variables"
   ]
  },
  {
   "cell_type": "markdown",
   "id": "06cc90c0",
   "metadata": {
    "editable": false,
    "id": "4fe92de1",
    "lang": "en"
   },
   "source": [
    "# Homework 5, Question 2: Feature selection"
   ]
  },
  {
   "cell_type": "markdown",
   "id": "2d21bec8",
   "metadata": {
    "editable": false,
    "id": "828d83b2",
    "lang": "fr",
    "tags": [
     "problem-statement"
    ]
   },
   "source": [
    "## Code préambule"
   ]
  },
  {
   "cell_type": "markdown",
   "id": "a827ab22",
   "metadata": {
    "editable": false,
    "id": "8d0fe9ea",
    "lang": "en",
    "tags": [
     "problem-statement"
    ]
   },
   "source": [
    "## Preamble code"
   ]
  },
  {
   "cell_type": "code",
   "execution_count": null,
   "id": "32d73b42",
   "metadata": {
    "ExecuteTime": {
     "end_time": "2021-12-06T04:56:24.756668Z",
     "start_time": "2021-12-06T04:56:24.082572Z"
    },
    "editable": false,
    "id": "ef681031",
    "tags": [
     "problem-context",
     "autoexec"
    ]
   },
   "outputs": [],
   "source": [
    "import time\n",
    "import numpy\n",
    "import warnings\n",
    "import os\n",
    "import requests\n",
    "import urllib.parse\n",
    "import pickle as pkl\n",
    "import zipfile\n",
    "import io\n",
    "import pandas\n",
    "\n",
    "# Nous ne voulons pas avoir ce type d'avertissement, qui\n",
    "# n'est pas utile dans le cadre de ce devoir\n",
    "# We do not want to have this type of warning, which\n",
    "# is not useful in the context of this homework\n",
    "warnings.filterwarnings(\"ignore\", category=FutureWarning)\n",
    "\n",
    "from sklearn.model_selection import train_test_split\n",
    "from sklearn.svm import LinearSVC\n",
    "from sklearn.feature_selection import SelectKBest, RFE, chi2, mutual_info_classif\n",
    "\n",
    "# Fonction pour charger le jeu de données CSDMC Spam\n",
    "# Function to load the CSDMC Spam dataset\n",
    "def load_csdmc_spam():\n",
    "    csdmdir = \"/pax/shared/GIF-4101-7005/csdmc-spam\"\n",
    "    X = numpy.load(os.path.join(csdmdir, \"X.npy\"))\n",
    "    y = numpy.load(os.path.join(csdmdir, \"y.npy\"))\n",
    "    with open(os.path.join(csdmdir, \"features.pkl\"), \"rb\") as f:\n",
    "        features = pkl.load(f)\n",
    "    return X, y, features\n",
    "\n",
    "# Fonctions utilitaires liées à l'évaluation\n",
    "# Utility functions related to evaluation\n",
    "_times = []\n",
    "def checkTime(maxduration, question):\n",
    "    duration = _times[-1] - _times[-2]\n",
    "    if duration > maxduration:\n",
    "        print(\"[ATTENTION] Votre code pour la question {0} met trop de temps à s'exécuter! \".format(question)+\n",
    "            \"Le temps maximum permis est de {0:.4f} secondes, mais votre code a requis {1:.4f} secondes! \".format(maxduration,duration)+\n",
    "            \"Assurez-vous que vous ne faites pas d'appels bloquants (par exemple à show()) dans cette boucle!\") \n",
    "\n",
    "# Définition des durées d'exécution maximales pour chaque sous-question\n",
    "# Definition of maximum execution times for each sub-question\n",
    "TMAX_Q2Aall = 0.5\n",
    "TMAX_Q2Achi = 0.5\n",
    "TMAX_Q2Amut = 60\n",
    "TMAX_Q2B = 150"
   ]
  },
  {
   "cell_type": "markdown",
   "id": "78d713d0",
   "metadata": {
    "editable": false,
    "id": "4ef8b741",
    "lang": "fr",
    "tags": [
     "problem-statement"
    ]
   },
   "source": [
    "Soit le jeu de données *CSDMC 2010 SPAM corpus*, dont nous avons extrait un [jeu de données](https://pax.ulaval.ca/static/GIF-4101-7005/fichiers/csdmc-spam.zip) avec 1000 caractéristiques binaires, indiquant la présence ou non d’un mot particulier. \n",
    "\n",
    "Information sur le jeu de données:\n",
    "- `X` : ensemble de données, chaque ligne étant une instance et chaque colonne une caractéristique;\n",
    "- `y` : étiquettes de classe des données, 0 indiquant que l’instance est un pourriel, 1 indiquant que c’est un message légitime;\n",
    "- `features` : la liste des 1000 mots d’intérêt, dans le même ordre que les colonnes de `X`.\n",
    "\n",
    "Supposons que l’on veut sélectionner les variables d’intérêt de ce jeu de données, où chaque variable indique la présence ou non d’un mot particulier."
   ]
  },
  {
   "cell_type": "markdown",
   "id": "ca47b268",
   "metadata": {
    "editable": false,
    "id": "9436eaa4",
    "lang": "en",
    "lines_to_next_cell": 2,
    "tags": [
     "problem-statement"
    ]
   },
   "source": [
    "Consider the *CSDMC 2010 SPAM corpus* dataset, from which we have extracted a [dataset](https://pax.ulaval.ca/static/GIF-4101-7005/fichiers/csdmc-spam.zip) with 1000 binary characteristics, indicating whether or not a particular word is present.\n",
    "\n",
    "Dataset information:\n",
    "- `X` : dataset, each row being an instance and each column a characteristic;\n",
    "- `y` : class labels of the data, 0 indicating that the instance is spam, 1 indicating that it is a legitimate message;\n",
    "- `features` : the list of 1000 words of interest, in the same order as the columns of `X`.\n",
    "\n",
    "Suppose we want to select the variables of interest from this dataset, where each variable indicates whether or not a particular word is present."
   ]
  },
  {
   "cell_type": "markdown",
   "id": "08f31e23",
   "metadata": {
    "editable": false,
    "id": "34a5218a",
    "lang": "fr"
   },
   "source": [
    "## Q2A\n",
    "Effectuez une sélection univariée en conservant les 10 meilleures variables parmi les 1000, selon le test du $\\chi^2$ (`feature_selection.chi2`) et le critère d’information mutuelle (`feature_selection.mutual_info_classif`).\n",
    "\n",
    "Les données sont partitionnées en un jeu d'entraînement et jeu de test, de même taille. Effectuez la sélection de variables selon le jeu d’entraînement. Rapportez les variables (et les mots correspondants) sélectionnées par les deux critères de sélection utilisés. Rapportez également la performance de classement sur le jeu de test, en utilisant un SVM linéaire (`svm.LinearSVC`) comme modèle de classement entraîné sur la partition d’entraînement. Comparez les résultats avec ceux obtenus avec la même configuration, mais utilisant l’ensemble des 1000 variables."
   ]
  },
  {
   "cell_type": "markdown",
   "id": "21b0d2f3",
   "metadata": {
    "editable": false,
    "id": "bde84610",
    "lang": "en"
   },
   "source": [
    "## Q2A\n",
    "Make a univariate selection keeping the 10 best variables among the 1000, according to the $\\chi^2$ test (`feature _selection.chi2`) and the mutual information criterion (`feature_ selection.mutual _info_ classif`).\n",
    "\n",
    "The data is partitioned into a training set and a testing set, of equal size. Perform the variable selection according to the training set. Report the variables (and corresponding words) selected by the two selection criteria used. Also report the classification performance on the testing set, using a linear SVM (`svm.LinearSVC`) as the trained classification model on the training partition. Compare the results with those obtained with the same setup, but using all 1000 variables."
   ]
  },
  {
   "cell_type": "markdown",
   "id": "68ea3eab",
   "metadata": {
    "editable": false,
    "id": "e31439dd",
    "lang": "fr",
    "tags": []
   },
   "source": [
    "### Entrez votre solution à Q2A dans la cellule suivante, en vous basant sur le patron de code donné plus bas."
   ]
  },
  {
   "cell_type": "markdown",
   "id": "5d2fedf0",
   "metadata": {
    "editable": false,
    "id": "b182b9e2",
    "lang": "en",
    "tags": []
   },
   "source": [
    "### Enter your answer to Q2A in the following cell, starting from the code template given below."
   ]
  },
  {
   "cell_type": "code",
   "execution_count": null,
   "id": "8c91f258",
   "metadata": {
    "deletable": false,
    "id": "5a23b92d",
    "tags": [
     "user-answer-D5Q2A",
     "editable"
    ]
   },
   "outputs": [],
   "source": [
    "# Chargement des données et des noms des caractéristiques\n",
    "# Loading data and feature names\n",
    "X, y, features_ = load_csdmc_spam()\n",
    "\n",
    "# Division du jeu en entraînement / test, ne modifiez pas la valeur de random_state\n",
    "# Split the game into training / test, do not change the value of random_state\n",
    "X_train, X_test, y_train, y_test = train_test_split(X, y, test_size=0.5, random_state=42)\n",
    "\n",
    "_times.append(time.time())\n",
    "score = 0\n",
    "features = []\n",
    "\n",
    "# *** TODO ***\n",
    "# Entraînez un classifieur SVM linéaire sur le jeu de données *complet*\n",
    "# et rapportez sa performance en test dans *score* et les caractéristiques dans *features*\n",
    "# Train a linear SVM classifier on the *complete* dataset and report its test performance\n",
    "# in *score* and its features in *features*\n",
    "clf = LinearSVC()\n",
    "clf.fit(X_train, y_train)\n",
    "score = clf.score(X_test, y_test)\n",
    "features = numpy.unique(features_)\n",
    "# ******\n",
    "\n",
    "print(\"Variable:\", features)\n",
    "print(\"Score avec toutes les variables: \", score)\n",
    "_times.append(time.time())\n",
    "checkTime(TMAX_Q2Aall, \"2A (toutes les variables)\")\n",
    "\n",
    "_times.append(time.time())\n",
    "score = 0\n",
    "features = []\n",
    "\n",
    "# *** TODO ***\n",
    "# Entraînez un classifieur SVM linéaire sur le jeu de données\n",
    "# en réduisant le nombre de caractéristiques (features) à 10 en\n",
    "# utilisant le chi^2 comme métrique et rapportez sa performance en test.\n",
    "# Train a linear SVM classifier on the dataset\n",
    "# by reducing the number of features to 10 by\n",
    "# using chi^2 as a metric and report its test performance.\n",
    "clf = LinearSVC()\n",
    "\n",
    "kbest_chi2 = SelectKBest(chi2, k=10).fit(X_train, y_train)\n",
    "X_train_chi2 = kbest_chi2.transform(X_train)\n",
    "X_test_chi2  = kbest_chi2.transform(X_test)\n",
    "\n",
    "clf.fit(X_train_chi2, y_train)\n",
    "score = clf.score(X_test_chi2, y_test)\n",
    "\n",
    "features = [features_[i] for i in numpy.where(kbest_chi2.get_support() == True)[0]]\n",
    "# ******\n",
    "\n",
    "print(\"Variables:\", features)\n",
    "print(\"Score avec variables sélectionnées par chi2: \", score)\n",
    "_times.append(time.time())\n",
    "checkTime(TMAX_Q2Achi, \"2A (sélection de variables par chi2)\")\n",
    "\n",
    "_times.append(time.time())\n",
    "score = 0\n",
    "features = []\n",
    "\n",
    "# *** TODO ***\n",
    "# Entraînez un classifieur SVM linéaire sur le jeu de données\n",
    "# en réduisant le nombre de caractéristiques (features) à 10 en utilisant\n",
    "# l'information mutuelle comme métrique et rapportez sa performance en test.\n",
    "# Train a linear SVM classifier on the dataset by reducing the number of\n",
    "# features to 10 using mutual information as a metric and report its \n",
    "# test performance.\n",
    "clf = LinearSVC()\n",
    "\n",
    "kbest_info = SelectKBest(mutual_info_classif, k=10).fit(X_train, y_train)\n",
    "X_train_info = kbest_info.transform(X_train)\n",
    "X_test_info = kbest_info.transform(X_test)\n",
    "\n",
    "clf.fit(X_train_info, y_train)\n",
    "\n",
    "score = clf.score(X_test_info, y_test)\n",
    "\n",
    "features = [features_[i] for i in numpy.where(kbest_info.get_support() == True)[0]]\n",
    "# ******\n",
    "\n",
    "print(\"Variables: \", features)\n",
    "print(\"Score avec variables sélectionnées par information mutuelle: \", score)\n",
    "_times.append(time.time())\n",
    "checkTime(TMAX_Q2Amut, \"2A (sélection de variables par information mutuelle)\")"
   ]
  },
  {
   "cell_type": "markdown",
   "id": "ee1891bc",
   "metadata": {
    "editable": false,
    "id": "64b0dd5a",
    "lang": "fr",
    "tags": []
   },
   "source": [
    "### Patron de code réponse à l'exercice Q2A"
   ]
  },
  {
   "cell_type": "markdown",
   "id": "b5630ba6",
   "metadata": {
    "editable": false,
    "id": "d087b026",
    "lang": "en",
    "tags": []
   },
   "source": [
    "### Q2A answer code template"
   ]
  },
  {
   "cell_type": "code",
   "execution_count": null,
   "id": "05fb4cc3",
   "metadata": {
    "editable": false,
    "id": "ed48a41b"
   },
   "outputs": [],
   "source": [
    "# Chargement des données et des noms des caractéristiques\n",
    "# Loading data and feature names\n",
    "X, y, features = load_csdmc_spam()\n",
    "\n",
    "# Division du jeu en entraînement / test, ne modifiez pas la valeur de random_state\n",
    "# Split the game into training / test, do not change the value of random_state\n",
    "X_train, X_test, y_train, y_test = train_test_split(X, y, test_size=0.5, random_state=42)\n",
    "\n",
    "_times.append(time.time())\n",
    "score = 0\n",
    "features = []\n",
    "\n",
    "# *** TODO ***\n",
    "# Entraînez un classifieur SVM linéaire sur le jeu de données *complet*\n",
    "# et rapportez sa performance en test dans *score* et les caractéristiques dans *features*\n",
    "# Train a linear SVM classifier on the *complete* dataset and report its test performance\n",
    "# in *score* and its features in *features*\n",
    "# ******\n",
    "\n",
    "print(\"Variable:\", features)\n",
    "print(\"Score avec toutes les variables: \", score)\n",
    "_times.append(time.time())\n",
    "checkTime(TMAX_Q2Aall, \"2A (toutes les variables)\")\n",
    "\n",
    "_times.append(time.time())\n",
    "score = 0\n",
    "features = []\n",
    "\n",
    "# *** TODO ***\n",
    "# Entraînez un classifieur SVM linéaire sur le jeu de données\n",
    "# en réduisant le nombre de caractéristiques (features) à 10 en\n",
    "# utilisant le chi^2 comme métrique et rapportez sa performance en test.\n",
    "# Train a linear SVM classifier on the dataset\n",
    "# by reducing the number of features to 10 by\n",
    "# using chi^2 as a metric and report its test performance.\n",
    "# ******\n",
    "\n",
    "print(\"Variables:\", features)\n",
    "print(\"Score avec variables sélectionnées par chi2: \", score)\n",
    "_times.append(time.time())\n",
    "checkTime(TMAX_Q2Achi, \"2A (sélection de variables par chi2)\")\n",
    "\n",
    "_times.append(time.time())\n",
    "score = 0\n",
    "features = []\n",
    "\n",
    "# *** TODO ***\n",
    "# Entraînez un classifieur SVM linéaire sur le jeu de données\n",
    "# en réduisant le nombre de caractéristiques (features) à 10 en utilisant\n",
    "# l'information mutuelle comme métrique et rapportez sa performance en test.\n",
    "# Train a linear SVM classifier on the dataset by reducing the number of\n",
    "# features to 10 using mutual information as a metric and report its \n",
    "# test performance.\n",
    "# ******\n",
    "\n",
    "print(\"Variables: \", features)\n",
    "print(\"Score avec variables sélectionnées par information mutuelle: \", score)\n",
    "_times.append(time.time())\n",
    "checkTime(TMAX_Q2Amut, \"2A (sélection de variables par information mutuelle)\")"
   ]
  },
  {
   "cell_type": "markdown",
   "id": "3d601247",
   "metadata": {
    "editable": false,
    "id": "560c1b0a",
    "lang": "fr"
   },
   "source": [
    "## Q2B\n",
    "Répétez les expérimentations de la sous-question précédente avec la sélection séquentielle arrière implémentée dans la fonction `feature_selection.RFE` de scikit-learn. Faites les expérimentations en utilisant un SVM linéaire comme modèle de base, en faisant un réentraînement à chaque itération de l’algorithme (`step=1`)."
   ]
  },
  {
   "cell_type": "markdown",
   "id": "f826bc19",
   "metadata": {
    "editable": false,
    "id": "36dbef78",
    "lang": "en"
   },
   "source": [
    "## Q2B\n",
    "Repeat the experiments of the previous sub-question with the backward sequential selection implemented in the `feature_selection.RFE` function of scikit-learn. Make the experiments using a linear SVM as a basic model, retraining at each iteration of the algorithm (`step=1`)."
   ]
  },
  {
   "cell_type": "markdown",
   "id": "24c1d2b0",
   "metadata": {
    "editable": false,
    "id": "051f2e95",
    "lang": "fr",
    "tags": []
   },
   "source": [
    "### Entrez votre solution à Q2B dans la cellule suivante, en vous basant sur le patron de code donné plus bas."
   ]
  },
  {
   "cell_type": "markdown",
   "id": "eb99665d",
   "metadata": {
    "editable": false,
    "id": "9f1958fe",
    "lang": "en",
    "tags": []
   },
   "source": [
    "### Enter your answer to Q2B in the following cell, starting from the code template given below."
   ]
  },
  {
   "cell_type": "code",
   "execution_count": null,
   "id": "72852a50",
   "metadata": {
    "deletable": false,
    "id": "52ebfe25",
    "tags": [
     "user-answer-D5Q2B",
     "editable"
    ]
   },
   "outputs": [],
   "source": [
    "_times.append(time.time())\n",
    "score = 0\n",
    "features = []\n",
    "\n",
    "# *** TODO ***\n",
    "# Entraînez un classifieur SVM linéaire sur le jeu de données\n",
    "# en réduisant le nombre de caractéristiques (features) à 10 par\n",
    "# sélection séquentielle arrière et rapportez sa performance en test.\n",
    "# Train a linear SVM classifier on the dataset\n",
    "# by reducing the number of features to 10 using backward sequential\n",
    "# selection as a metric and report its test performance.\n",
    "clf = LinearSVC()\n",
    "rfe = RFE(clf, n_features_to_select=10)\n",
    "\n",
    "rfe.fit(X_train, y_train)\n",
    "score = rfe.score(X_test, y_test)\n",
    "\n",
    "features = [features_[i] for i in numpy.where(rfe.get_support() == True)[0]]\n",
    "# ******\n",
    "\n",
    "print(\"Variables: \", features)\n",
    "print(\"Score avec sélection arrière séquentielle (RFE):\", score)\n",
    "_times.append(time.time())\n",
    "checkTime(TMAX_Q2B, \"2B\")"
   ]
  },
  {
   "cell_type": "markdown",
   "id": "c1b68a98",
   "metadata": {
    "editable": false,
    "id": "54c9e9e1",
    "lang": "fr",
    "tags": []
   },
   "source": [
    "### Patron de code réponse à l'exercice Q2B"
   ]
  },
  {
   "cell_type": "markdown",
   "id": "c73c0e4c",
   "metadata": {
    "editable": false,
    "id": "0dc9d3b8",
    "lang": "en",
    "tags": []
   },
   "source": [
    "### Q2B answer code template"
   ]
  },
  {
   "cell_type": "code",
   "execution_count": null,
   "id": "2a301be5",
   "metadata": {
    "editable": false,
    "id": "9412460f"
   },
   "outputs": [],
   "source": [
    "_times.append(time.time())\n",
    "score = 0\n",
    "features = []\n",
    "\n",
    "# *** TODO ***\n",
    "# Entraînez un classifieur SVM linéaire sur le jeu de données\n",
    "# en réduisant le nombre de caractéristiques (features) à 10 par\n",
    "# sélection séquentielle arrière et rapportez sa performance en test.\n",
    "# Train a linear SVM classifier on the dataset\n",
    "# by reducing the number of features to 10 using backward sequential\n",
    "# selection as a metric and report its test performance.\n",
    "# ******\n",
    "\n",
    "print(\"Variables: \", features)\n",
    "print(\"Score avec sélection arrière séquentielle (RFE):\", score)\n",
    "_times.append(time.time())\n",
    "checkTime(TMAX_Q2B, \"2B\")"
   ]
  },
  {
   "cell_type": "markdown",
   "id": "a6d759aa",
   "metadata": {
    "editable": false,
    "id": "a2981f24",
    "lang": "fr"
   },
   "source": [
    "## Q2C\n",
    "En guise d'analyse, répondez aux questions suivantes sur la sélection de variables:\n",
    "1. Comparez les résultats obtenus par les différentes approches de sélection de variables présentées dans les sous-questions précédentes et expliquez les différences observées.\n",
    "2. Expliquez pourquoi un algorithme de sélection arrière séquentielle est souvent préféré à un algorithme de sélection avant séquentielle pour des données comportant des dépendances non-linéaires complexes entre les variables."
   ]
  },
  {
   "cell_type": "markdown",
   "id": "b73eef27",
   "metadata": {
    "editable": false,
    "id": "01007260",
    "lang": "en"
   },
   "source": [
    "## Q2C\n",
    "For analysis, answer the following questions about feature selection:\n",
    "1. Compare the results obtained by the different feature selection methods presented in the previous sub-questions and explain the observed differences.\n",
    "2. Explain why a sequential backward selection algorithm is often preferred over a sequential forward selection algorithm for data with complex nonlinear dependencies between variables."
   ]
  },
  {
   "cell_type": "markdown",
   "id": "eebeae2b",
   "metadata": {
    "editable": false,
    "id": "190f2240",
    "lang": "fr",
    "tags": []
   },
   "source": [
    "### Entrez votre solution à Q2C dans la cellule ci-dessous\n",
    "Patron de réponse en format markdown:\n",
    "~~~md\n",
    "1. Comparez les résultats obtenus par les différentes approches de sélection de variables présentées dans les sous-questions précédentes et expliquez les différences observées.\n",
    "***Donnez ici vos explications au point 1***\n",
    "\n",
    "2. Expliquez pourquoi un algorithme de sélection arrière séquentielle est souvent préféré à un algorithme de sélection avant séquentielle pour des données comportant des dépendances non-linéaires complexes entre les variables.\n",
    "***Donnez ici vos explications au point 2***\n",
    "~~~"
   ]
  },
  {
   "cell_type": "markdown",
   "id": "87ee373e",
   "metadata": {
    "editable": false,
    "id": "cd6cf15e",
    "lang": "en",
    "tags": []
   },
   "source": [
    "### Enter your solution to Q2C in the cell below\n",
    "Markdown answer template:\n",
    "~~~md\n",
    "1. Compare the results obtained by the different feature selection approaches presented in the previous sub-questions and explain the observed differences.\n",
    "***Give here your explanations to point 1***\n",
    "\n",
    "2. Explain why a sequential backward selection algorithm is often preferred over a sequential forward selection algorithm for data with complex nonlinear dependencies between variables.\n",
    "***Give here your explanations to point 2***\n",
    "~~~"
   ]
  },
  {
   "cell_type": "markdown",
   "id": "2e31a931",
   "metadata": {
    "deletable": false,
    "id": "753afdec",
    "tags": [
     "user-answer-D5Q2C",
     "editable"
    ]
   },
   "source": [
    "1. Comparez les résultats obtenus par les différentes approches de sélection de variables présentées dans les sous-questions précédentes et expliquez les différences observées. / Compare the results obtained by the different feature selection approaches presented in the previous sub-questions and explain the observed differences.\n",
    "***Donnez ici vos explications au point 1 / Give here your explanations to point 1***\n",
    "\n",
    "2. Expliquez pourquoi un algorithme de sélection arrière séquentielle est souvent préféré à un algorithme de sélection avant séquentielle pour des données comportant des dépendances non-linéaires complexes entre les variables. / Explain why a sequential backward selection algorithm is often preferred over a sequential forward selection algorithm for data with complex nonlinear dependencies between variables.\n",
    "***Donnez ici vos explications au point 2 / Give here your explanations to point 2***"
   ]
  }
 ],
 "metadata": {
  "PAX": {
   "userLang": "fr"
  },
  "celltoolbar": "",
  "jupytext": {
   "notebook_metadata_filter": "celltoolbar",
   "text_representation": {
    "extension": ".md",
    "format_name": "markdown",
    "format_version": "1.3",
    "jupytext_version": "1.11.4"
   }
  },
  "kernelspec": {
   "display_name": "Python 3",
   "language": "python",
   "name": "python3"
  },
  "language_info": {
   "codemirror_mode": {
    "name": "ipython",
    "version": 3
   },
   "file_extension": ".py",
   "mimetype": "text/x-python",
   "name": "python",
   "nbconvert_exporter": "python",
   "pygments_lexer": "ipython3",
   "version": "3.6.9"
  },
  "nbTranslate": {
   "displayLangs": [
    "*"
   ],
   "hotkey": "alt-t",
   "langInMainMenu": true,
   "sourceLang": "en",
   "targetLang": "fr",
   "useGoogleTranslate": true
  }
 },
 "nbformat": 4,
 "nbformat_minor": 5
}
