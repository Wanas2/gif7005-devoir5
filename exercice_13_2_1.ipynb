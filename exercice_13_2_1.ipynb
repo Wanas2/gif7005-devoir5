{
 "cells": [
  {
   "cell_type": "markdown",
   "id": "fd2abda2",
   "metadata": {
    "editable": false,
    "id": "11a55912",
    "lang": "fr",
    "tags": [
     "problem-title"
    ]
   },
   "source": [
    "# Devoir 5, Question 1 : Clustering de données"
   ]
  },
  {
   "cell_type": "markdown",
   "id": "65fea2f5",
   "metadata": {
    "editable": false,
    "id": "b4f8691b",
    "lang": "en"
   },
   "source": [
    "# Homework 5, Question 1: Data clustering"
   ]
  },
  {
   "cell_type": "markdown",
   "id": "2fb9bd7b",
   "metadata": {
    "editable": false,
    "id": "e53e44a2",
    "lang": "fr",
    "tags": [
     "problem-statement"
    ]
   },
   "source": [
    "## Code préambule"
   ]
  },
  {
   "cell_type": "markdown",
   "id": "ca4837c3",
   "metadata": {
    "editable": false,
    "id": "0e99547b",
    "lang": "en",
    "tags": [
     "problem-statement"
    ]
   },
   "source": [
    "## Preamble code"
   ]
  },
  {
   "cell_type": "code",
   "execution_count": 1,
   "id": "e40739cb",
   "metadata": {
    "editable": false,
    "id": "cc2b1a98",
    "tags": [
     "problem-context",
     "autoexec"
    ]
   },
   "outputs": [],
   "source": [
    "import time\n",
    "import numpy\n",
    "import warnings\n",
    "import pandas\n",
    "\n",
    "# Nous ne voulons pas avoir ce type d'avertissement, qui\n",
    "# n'est pas utile dans le cadre de ce devoir\n",
    "# We do not want to have this type of warning, which\n",
    "# is not useful in the context of this assignment\n",
    "warnings.filterwarnings(\"ignore\", category=FutureWarning)\n",
    "\n",
    "from matplotlib import pyplot\n",
    "\n",
    "from sklearn.cluster import KMeans\n",
    "from sklearn.metrics import adjusted_rand_score, adjusted_mutual_info_score, v_measure_score\n",
    "from sklearn.datasets import load_breast_cancer\n",
    "from sklearn.mixture import GaussianMixture\n",
    "\n",
    "# Fonctions utilitaires liées à l'évaluation\n",
    "# Utility functions related to the evaluation\n",
    "_times = []\n",
    "def checkTime(maxduration, question):\n",
    "    duration = _times[-1] - _times[-2]\n",
    "    if duration > maxduration:\n",
    "        print(\"[ATTENTION] Votre code pour la question {0} met trop de temps à s'exécuter! \".format(question)+\n",
    "            \"Le temps maximum permis est de {0:.4f} secondes, mais votre code a requis {1:.4f} secondes! \".format(maxduration,duration)+\n",
    "            \"Assurez-vous que vous ne faites pas d'appels bloquants (par exemple à show()) dans cette boucle!\") \n",
    "\n",
    "# Définition des durées d'exécution maximales pour chaque sous-question\n",
    "# Definition of maximum execution times for each sub-question\n",
    "TMAX_Q1A = 15\n",
    "TMAX_Q1B = 20\n",
    "TMAX_Q1C = 20"
   ]
  },
  {
   "cell_type": "markdown",
   "id": "d4b66ca9",
   "metadata": {
    "editable": false,
    "id": "399965c5",
    "lang": "fr",
    "tags": [
     "problem-statement"
    ]
   },
   "source": [
    "Les questions suivantes feront usage du jeu de données *Wisconsin Breast Cancer*, disponible dans scikit-learn (`datasets.load_breast_cancer`). Les 30 variables correspondent à différentes mesures effectuées sur des tumeurs devant être classifiées comme bénignes ou malignes."
   ]
  },
  {
   "cell_type": "markdown",
   "id": "1907e0e9",
   "metadata": {
    "editable": false,
    "id": "4e50c2e4",
    "lang": "en",
    "tags": [
     "problem-statement"
    ]
   },
   "source": [
    "The following questions will make use of the *Wisconsin Breast Cancer* dataset, available in scikit-learn (*datasets.load_breast_cancer*). The 30 variables correspond to different measurements performed on tumours to be classified as benign or malignant."
   ]
  },
  {
   "cell_type": "markdown",
   "id": "2b731978",
   "metadata": {
    "editable": false,
    "id": "0f5d80cb",
    "lang": "fr"
   },
   "source": [
    "## Q1A\n",
    "En utilisant l’algorithme K-means, faites varier le nombre de clusters utilisés selon $K=[2,4,\\ldots,50]$ et comparez les résultats en utilisant les mesures de l’indice de Rand ajusté (`metrics.adjusted_rand_score`), le score basé sur l’information mutuelle (`metrics.adjusted_mutual_info_score`) et la mesure V (`metrics.v_measure_score`). Pour déterminer l’étiquette prédite, assignez au cluster l’étiquette (tumeur ou non) la plus fréquente parmi les données appartenant au cluster. Tracez les résultats dans une figure comparant la valeur des mesures de performance selon le nombre de clusters."
   ]
  },
  {
   "cell_type": "markdown",
   "id": "97889cdf",
   "metadata": {
    "editable": false,
    "id": "c3191da3",
    "lang": "en"
   },
   "source": [
    "## Q1A\n",
    "Using the K-means algorithm, vary the number of clusters used according to $K=[2,4,\\ldots,50]$ and compare the results using the measures of the adjusted Rand index (`metrics.adjusted _rand_ score`), the score based on mutual information (`metrics.adjusted _mutual_ info _score`) and measure V (` metrics.v_ measure_score`). To determine the predicted label, assign the cluster the label (tumour or not) that is most frequent among the data belonging to the cluster. Plot the results in a figure comparing the value of the performance metrics by the number of clusters."
   ]
  },
  {
   "cell_type": "markdown",
   "id": "9814d6a4",
   "metadata": {
    "editable": false,
    "id": "a30f0ec1",
    "lang": "fr",
    "tags": []
   },
   "source": [
    "### Entrez votre solution à Q1A dans la cellule suivante, en vous basant sur le patron de code donné plus bas."
   ]
  },
  {
   "cell_type": "markdown",
   "id": "505534d7",
   "metadata": {
    "editable": false,
    "id": "b9f2bef7",
    "lang": "en",
    "tags": []
   },
   "source": [
    "### Enter your answer to Q1A in the following cell, starting from the code template given below."
   ]
  },
  {
   "cell_type": "code",
   "execution_count": 2,
   "id": "3de697ce",
   "metadata": {
    "ExecuteTime": {
     "start_time": "2021-12-09T08:31:59.208Z"
    },
    "deletable": false,
    "id": "fbf7af51",
    "tags": [
     "user-answer-D5Q1A",
     "editable"
    ]
   },
   "outputs": [
    {
     "name": "stdout",
     "output_type": "stream",
     "text": [
      "[ATTENTION] Votre code pour la question 1A met trop de temps à s'exécuter! Le temps maximum permis est de 15.0000 secondes, mais votre code a requis 166.6907 secondes! Assurez-vous que vous ne faites pas d'appels bloquants (par exemple à show()) dans cette boucle!\n"
     ]
    },
    {
     "data": {
      "image/png": "[encoded data removed]",
      "text/plain": [
       "<Figure size 432x288 with 1 Axes>"
      ]
     },
     "metadata": {
      "needs_background": "light"
     },
     "output_type": "display_data"
    }
   ],
   "source": [
    "X, y = load_breast_cancer(return_X_y=True)\n",
    "\n",
    "clustering_metrics = [\n",
    "    adjusted_rand_score, \n",
    "    adjusted_mutual_info_score, \n",
    "    v_measure_score\n",
    "]\n",
    "\n",
    "def evalKmeans(X, y, k):\n",
    "    # Cette fonction prend en paramètre un jeu de données (X et y)\n",
    "    # et le nombre de clusters à utiliser (k).\n",
    "    # Elle retourne un tuple de 3 éléments, à savoir les scores basés sur:\n",
    "    # - L'indice de Rand ajusté\n",
    "    # - L'information mutuelle\n",
    "    # - La mesure V\n",
    "    # This function takes as parameters a dataset (X and y)\n",
    "    # and the number of clusters to use (k).\n",
    "    # It returns a tuple of 3 elements, namely the scores based on:\n",
    "    # - Adjusted Rand index\n",
    "    # - Mutual information\n",
    "    # - V measure\n",
    "    \n",
    "    # *** TODO ***\n",
    "    # Mesurez les différentes métriques avec les fonctions Scikit-learn\n",
    "    # et retournez le tuple qui contient les scores.\n",
    "    # Measure the different metrics with the Scikit-learn functions\n",
    "    # and return the tuple containing the scores.\n",
    "    # ******\n",
    "    kmeans = KMeans(n_clusters=k, random_state=0).fit(X)\n",
    "\n",
    "    return tuple([m(y, kmeans.labels_) for m in clustering_metrics])\n",
    "\n",
    "_times.append(time.time())\n",
    "pyplot.figure()\n",
    "\n",
    "# *** TODO ***\n",
    "# Évaluez ici la performance de K-means en utilisant la fonction `evalKmeans`\n",
    "# définie plus haut, en faisant varier le nombre de clusters entre 2 et 50\n",
    "# par incrément de 2. Tracez les résultats obtenus dans un graphique.\n",
    "# Evaluate here the performance of K-means using the `evalKmeans` function\n",
    "# defined above, varying the number of clusters between 2 and 50 in increments\n",
    "# of 2. Plot the results in a graph.\n",
    "# ******\n",
    "n_clusters = [n for n in range(2, 51, 2)]\n",
    "\n",
    "evalResults = []\n",
    "for n_cluster in n_clusters:\n",
    "    evalResults.append(evalKmeans(X, y, n_cluster))\n",
    "\n",
    "pyplot.plot(n_clusters, evalResults)\n",
    "\n",
    "pyplot.ylim([0.1, 0.8])\n",
    "_times.append(time.time())\n",
    "checkTime(TMAX_Q1A, \"1A\")\n",
    "pyplot.show()"
   ]
  },
  {
   "cell_type": "markdown",
   "id": "a14ce5ab",
   "metadata": {
    "editable": false,
    "id": "d8c6945b",
    "lang": "fr",
    "tags": []
   },
   "source": [
    "### Patron de code réponse à l'exercice Q1A"
   ]
  },
  {
   "cell_type": "markdown",
   "id": "69c8eb26",
   "metadata": {
    "editable": false,
    "id": "81a292a4",
    "lang": "en",
    "tags": []
   },
   "source": [
    "### Q1A answer code template"
   ]
  },
  {
   "cell_type": "code",
   "execution_count": null,
   "id": "dfd05d75",
   "metadata": {
    "editable": false,
    "id": "efc69f44",
    "tags": []
   },
   "outputs": [],
   "source": [
    "def evalKmeans(X, y, k):\n",
    "    # Cette fonction prend en paramètre un jeu de données (X et y)\n",
    "    # et le nombre de clusters à utiliser (k).\n",
    "    # Elle retourne un tuple de 3 éléments, à savoir les scores basés sur:\n",
    "    # - L'indice de Rand ajusté\n",
    "    # - L'information mutuelle\n",
    "    # - La mesure V\n",
    "    # This function takes as parameters a dataset (X and y)\n",
    "    # and the number of clusters to use (k).\n",
    "    # It returns a tuple of 3 elements, namely the scores based on:\n",
    "    # - Adjusted Rand index\n",
    "    # - Mutual information\n",
    "    # - V measure\n",
    "    \n",
    "    # *** TODO ***\n",
    "    # Mesurez les différentes métriques avec les fonctions Scikit-learn\n",
    "    # et retournez le tuple qui contient les scores.\n",
    "    # Measure the different metrics with the Scikit-learn functions\n",
    "    # and return the tuple containing the scores.\n",
    "    # ******\n",
    "    pass\n",
    "\n",
    "_times.append(time.time())\n",
    "pyplot.figure()\n",
    "\n",
    "# *** TODO ***\n",
    "# Évaluez ici la performance de K-means en utilisant la fonction `evalKmeans`\n",
    "# définie plus haut, en faisant varier le nombre de clusters entre 2 et 50\n",
    "# par incrément de 2. Tracez les résultats obtenus dans un graphique.\n",
    "# Evaluate here the performance of K-means using the `evalKmeans` function\n",
    "# defined above, varying the number of clusters between 2 and 50 in increments\n",
    "# of 2. Plot the results in a graph.\n",
    "# ******\n",
    "\n",
    "pyplot.ylim([0.1, 0.8])\n",
    "_times.append(time.time())\n",
    "checkTime(TMAX_Q1A, \"1A\")\n",
    "pyplot.show()"
   ]
  },
  {
   "cell_type": "markdown",
   "id": "d000febc",
   "metadata": {
    "editable": false,
    "id": "06d8ff64",
    "lang": "fr"
   },
   "source": [
    "## Q1B\n",
    "En utilisant cette fois l'algorithme *Espérance maximisation* (*EM*), faites varier le nombre de clusters utilisés selon $K=[2,4,\\ldots,50]$ pour une loi normale initialisée aléatoirement (`mixture.GaussianMixture(init_params='random')`).\n",
    "\n",
    "Pour évaluer les performances du clustering de EM, il faut assigner à chaque donnée une probabilité a posteriori de classement $P(C_i|\\mathbf{x}^t)$ selon :\n",
    "$$P(C_i|\\mathbf{x}^t) = \\frac{\\sum_j P(C_i|\\mathcal{G}_j)\\, P(\\mathcal{G}_j|\\mathbf{x}^t)}{\\sum_l \\sum_j P(C_l|\\mathcal{G}_j)\\, P(\\mathcal{G}_j|\\mathbf{x}^t)},\\qquad P(C_i|\\mathcal{G}_j) = \\frac{\\sum_t r_i^t P(\\mathcal{G}_j|\\mathbf{x}^t)}{\\sum_l \\sum_t r_l^t P(\\mathcal{G}_j|\\mathbf{x}^t)}.$$\n",
    "\n",
    "Le classement se fait en assignant la donnée à la classe dont la probabilité de classement est la plus élevée:\n",
    "$$y_i^t = \\left\\{ \\begin{array}{cc}1 & \\text{si } i = \\mathrm{argmax}_j P(C_j|\\mathbf{x}^t)\\\\ 0 & \\text{autrement}\\end{array}\\right..$$\n",
    "\n",
    "Tracez les résultats dans une figure comparant la valeur des mesures de performance selon le nombre de clusters."
   ]
  },
  {
   "cell_type": "markdown",
   "id": "67dc64e0",
   "metadata": {
    "editable": false,
    "id": "b85f2458",
    "lang": "en"
   },
   "source": [
    "## Q1B\n",
    "This time using the *Expectation Maximization* (*EM*) algorithm, vary the number of clusters used according to $K=[2,4,\\ldots,50]$ for a randomly initialized normal distribution (`mixture.GaussianMixture (init_params = 'random ')`).\n",
    "\n",
    "To evaluate the performance of EM clustering, each data must be assigned an a posteriori probability of $P(C_i|\\mathbf{x}^t)$ classification according to:\n",
    "$$P(C_i|\\mathbf{x}^t) = \\frac{\\sum_j P(C_i|\\mathcal{G}_j)\\, P(\\mathcal{G}_j|\\mathbf{x}^t)}{\\sum_l \\sum_j P(C_l|\\mathcal{G}_j)\\, P(\\mathcal{G}_j|\\mathbf{x}^t)},\\qquad P(C_i|\\mathcal{G}_j) = \\frac{\\sum_t r_i^t P(\\mathcal{G}_j|\\mathbf{x}^t)}{\\sum_l \\sum_t r_l^t P(\\mathcal{G}_j|\\mathbf{x}^t)}.$$\n",
    "\n",
    "Classification is done by assigning the data to the class with the highest probability of classification:\n",
    "$$y_i^t = \\left\\{ \\begin{array}{cc}1 & \\text{if } i = \\mathrm{argmax}_j P(C_j|\\mathbf{x}^t)\\\\ 0 & \\text{otherwise}\\end{array}\\right..$$\n",
    "\n",
    "Plot the results in a figure comparing the value of the performance metrics by the number of clusters."
   ]
  },
  {
   "cell_type": "markdown",
   "id": "ae04d54e",
   "metadata": {
    "editable": false,
    "id": "1e584d94",
    "lang": "fr",
    "tags": []
   },
   "source": [
    "### Entrez votre solution à Q1B dans la cellule suivante, en vous basant sur le patron de code donné plus bas."
   ]
  },
  {
   "cell_type": "markdown",
   "id": "7ab5745c",
   "metadata": {
    "editable": false,
    "id": "055163f7",
    "lang": "en",
    "tags": []
   },
   "source": [
    "### Enter your answer to Q1B in the following cell, starting from the code template given below."
   ]
  },
  {
   "cell_type": "code",
   "execution_count": 3,
   "id": "d63b1021",
   "metadata": {
    "deletable": false,
    "id": "53c3ca22",
    "tags": [
     "user-answer-D5Q1B",
     "editable"
    ]
   },
   "outputs": [
    {
     "name": "stdout",
     "output_type": "stream",
     "text": [
      "[ATTENTION] Votre code pour la question 1B met trop de temps à s'exécuter! Le temps maximum permis est de 20.0000 secondes, mais votre code a requis 78.7325 secondes! Assurez-vous que vous ne faites pas d'appels bloquants (par exemple à show()) dans cette boucle!\n"
     ]
    },
    {
     "data": {
      "image/png": "[encoded data removed]",
      "text/plain": [
       "<Figure size 432x288 with 1 Axes>"
      ]
     },
     "metadata": {
      "needs_background": "light"
     },
     "output_type": "display_data"
    }
   ],
   "source": [
    "# TODO Q1B\n",
    "# Implémentez les équations fournies dans l'énoncé\n",
    "# pour déterminer les étiquettes de classe.\n",
    "\n",
    "def evalEM(X, y, k, init):\n",
    "    # Cette fonction prend en paramètre un jeu de données (X et y),\n",
    "    # le nombre de clusters à utiliser (k) \n",
    "    # et l'initialisation demandée ('random' ou 'kmeans').\n",
    "    # Elle retourne un tuple de 3 éléments, à savoir les scores basés sur:\n",
    "    # - L'indice de Rand ajusté\n",
    "    # - L'information mutuelle\n",
    "    # - La mesure V\n",
    "    # This function takes as input a dataset (X and y), the number of \n",
    "    # clusters (k) and the initialization mode ('random' or 'kmeans').\n",
    "    # It outputs a tuple of 3 elements, which are the scores based on:\n",
    "    # - The adjusted Rand index\n",
    "    # - The mutual information\n",
    "    # - The V measure\n",
    "    \n",
    "    # N'oubliez pas que vous devez d'abord implémenter les équations fournies dans\n",
    "    # l'énoncé de la question pour déterminer les étiquettes de classe, avant\n",
    "    # d'évaluer les résultats des différentes métriques! Pour ce faire, il est\n",
    "    # recommandé d'utiliser les fonctions numpy (e.g. sum, dot) pour optimiser\n",
    "    # le temps de calcul.\n",
    "    # Don't forget that you must first implement the equations provided in the\n",
    "    # question statement to get the class labels, before evaluating the results\n",
    "    # using different metrics! To do so, it is recommanded to use the numpy functions \n",
    "    # (e.g. sum, dot) to optimize the computation time.\n",
    "    \n",
    "    # TODO Q1B\n",
    "    # Mesurez les différentes métriques avec les fonctions\n",
    "    # Scikit-learn et retournez le tuple qui contient\n",
    "    # les scores.\n",
    "    # Measure the different metrics using the functions\n",
    "    # Scikit-learn and return the tuple containing the scores.\n",
    "    gm = GaussianMixture(n_components=k, init_params=init).fit(X)\n",
    "\n",
    "    return tuple([m(y, gm.predict(X)) for m in clustering_metrics])\n",
    "\n",
    "_times.append(time.time())\n",
    "pyplot.figure()\n",
    "\n",
    "# TODO Q1B\n",
    "# Évaluez ici la performance de EM en utilisant la fonction `evalEM`\n",
    "# définie plus haut, en faisant varier le nombre de clusters entre 2 et 50\n",
    "# par incrément de 2 et en utilisant une initialisation aléatoire. \n",
    "# Tracez les résultats obtenus sous forme de courbe.\n",
    "# Evaluate here the performance of EM using the function 'evalEM' defined\n",
    "# above, varying the number of clusters between 2 and 50 by increments of 2\n",
    "# and using a random initialization. Plot the results as a curve.\n",
    "n_clusters = [n for n in range(2, 51, 2)]\n",
    "\n",
    "evalResults = []\n",
    "for n_cluster in n_clusters:\n",
    "    evalResults.append(evalEM(X, y, n_cluster, \"random\"))\n",
    "\n",
    "pyplot.plot(n_clusters, evalResults)\n",
    "\n",
    "pyplot.ylim([0.1, 0.8])\n",
    "_times.append(time.time())\n",
    "checkTime(TMAX_Q1B, \"1B\")\n",
    "pyplot.show()"
   ]
  },
  {
   "cell_type": "markdown",
   "id": "76cb3b24",
   "metadata": {
    "editable": false,
    "id": "d943dcad",
    "lang": "fr",
    "tags": []
   },
   "source": [
    "### Patron de code réponse à l'exercice Q1B"
   ]
  },
  {
   "cell_type": "markdown",
   "id": "2dbf405c",
   "metadata": {
    "editable": false,
    "id": "7ac43cc6",
    "lang": "en",
    "tags": []
   },
   "source": [
    "### Q1B answer code template"
   ]
  },
  {
   "cell_type": "code",
   "execution_count": null,
   "id": "81c59884",
   "metadata": {
    "editable": false,
    "id": "da9aa58f",
    "tags": []
   },
   "outputs": [],
   "source": [
    "# TODO Q1B\n",
    "# Implémentez les équations fournies dans l'énoncé\n",
    "# pour déterminer les étiquettes de classe.\n",
    "\n",
    "def evalEM(X, y, k, init):\n",
    "    # Cette fonction prend en paramètre un jeu de données (X et y),\n",
    "    # le nombre de clusters à utiliser (k) \n",
    "    # et l'initialisation demandée ('random' ou 'kmeans').\n",
    "    # Elle retourne un tuple de 3 éléments, à savoir les scores basés sur:\n",
    "    # - L'indice de Rand ajusté\n",
    "    # - L'information mutuelle\n",
    "    # - La mesure V\n",
    "    # This function takes as input a dataset (X and y), the number of \n",
    "    # clusters (k) and the initialization mode ('random' or 'kmeans').\n",
    "    # It outputs a tuple of 3 elements, which are the scores based on:\n",
    "    # - The adjusted Rand index\n",
    "    # - The mutual information\n",
    "    # - The V measure\n",
    "    \n",
    "    # N'oubliez pas que vous devez d'abord implémenter les équations fournies dans\n",
    "    # l'énoncé de la question pour déterminer les étiquettes de classe, avant\n",
    "    # d'évaluer les résultats des différentes métriques! Pour ce faire, il est\n",
    "    # recommandé d'utiliser les fonctions numpy (e.g. sum, dot) pour optimiser\n",
    "    # le temps de calcul.\n",
    "    # Don't forget that you must first implement the equations provided in the\n",
    "    # question statement to get the class labels, before evaluating the results\n",
    "    # using different metrics! To do so, it is recommanded to use the numpy functions \n",
    "    # (e.g. sum, dot) to optimize the computation time.\n",
    "    \n",
    "    # TODO Q1B\n",
    "    # Mesurez les différentes métriques avec les fonctions\n",
    "    # Scikit-learn et retournez le tuple qui contient\n",
    "    # les scores.\n",
    "    # Measure the different metrics using the functions\n",
    "    # Scikit-learn and return the tuple containing the scores.\n",
    "    pass\n",
    "\n",
    "_times.append(time.time())\n",
    "pyplot.figure()\n",
    "\n",
    "# TODO Q1B\n",
    "# Évaluez ici la performance de EM en utilisant la fonction `evalEM`\n",
    "# définie plus haut, en faisant varier le nombre de clusters entre 2 et 50\n",
    "# par incrément de 2 et en utilisant une initialisation aléatoire. \n",
    "# Tracez les résultats obtenus sous forme de courbe.\n",
    "# Evaluate here the performance of EM using the function 'evalEM' defined\n",
    "# above, varying the number of clusters between 2 and 50 by increments of 2\n",
    "# and using a random initialization. Plot the results as a curve.\n",
    "\n",
    "\n",
    "pyplot.ylim([0.1, 0.8])\n",
    "_times.append(time.time())\n",
    "checkTime(TMAX_Q1B, \"1B\")\n",
    "pyplot.show()"
   ]
  },
  {
   "cell_type": "markdown",
   "id": "d2f1d485",
   "metadata": {
    "editable": false,
    "id": "770e687a",
    "lang": "fr"
   },
   "source": [
    "## Q1C\n",
    "Toujours en utilisant l'algorithme EM, faites varier le nombre de clusters utilisés selon $K=[2,4,\\ldots,50]$ pour une initialisation faite avec le clustering de $K$-means. Tracez les résultats dans une figure comparant la valeur des mesures de performance selon le nombre de clusters."
   ]
  },
  {
   "cell_type": "markdown",
   "id": "d2f6bf21",
   "metadata": {
    "editable": false,
    "id": "1e98a376",
    "lang": "en"
   },
   "source": [
    "## Q1C\n",
    "Still using the EM algorithm, vary the number of clusters used according to $K=[2,4,\\ldots,50]$ for an initialization done from a $K$-means clustering. Plot the results in a figure comparing the value of the performance metrics by the number of clusters."
   ]
  },
  {
   "cell_type": "markdown",
   "id": "377d1622",
   "metadata": {
    "editable": false,
    "id": "33a7b398",
    "lang": "fr",
    "tags": []
   },
   "source": [
    "### Entrez votre solution à Q1C dans la cellule suivante, en vous basant sur le patron de code donné plus bas."
   ]
  },
  {
   "cell_type": "markdown",
   "id": "af53bf8a",
   "metadata": {
    "editable": false,
    "id": "350e2c70",
    "lang": "en",
    "tags": []
   },
   "source": [
    "### Enter your answer to Q1C in the following cell, starting from the code template given below."
   ]
  },
  {
   "cell_type": "code",
   "execution_count": 23,
   "id": "a4009a58",
   "metadata": {
    "deletable": false,
    "id": "fe177fe3",
    "tags": [
     "user-answer-D5Q1C",
     "editable"
    ]
   },
   "outputs": [
    {
     "name": "stdout",
     "output_type": "stream",
     "text": [
      "[ATTENTION] Votre code pour la question 1C met trop de temps à s'exécuter! Le temps maximum permis est de 20.0000 secondes, mais votre code a requis 70.9161 secondes! Assurez-vous que vous ne faites pas d'appels bloquants (par exemple à show()) dans cette boucle!\n"
     ]
    },
    {
     "data": {
      "image/png": "[encoded data removed]",
      "text/plain": [
       "<Figure size 432x288 with 1 Axes>"
      ]
     },
     "metadata": {
      "needs_background": "light"
     },
     "output_type": "display_data"
    }
   ],
   "source": [
    "_times.append(time.time())\n",
    "pyplot.figure()\n",
    "\n",
    "# *** TODO ***\n",
    "# Évaluez ici la performance de EM en utilisant la fonction `evalEM`\n",
    "# définie plus haut, en faisant varier le nombre de clusters entre 2 et 50\n",
    "# par incrément de 2 et en utilisant une initialisation par K-means.\n",
    "# Tracez les résultats obtenus sous forme de courbe.\n",
    "# Evaluate here the performance of EM using the `evalEM` function\n",
    "# defined above, varying the number of clusters between 2 and 50\n",
    "# in increments of 2 and using a K-means initialization.\n",
    "# Plot the results obtained as a curve.\n",
    "# ******\n",
    "n_clusters = [n for n in range(2, 51, 2)]\n",
    "\n",
    "evalResults = []\n",
    "for n_cluster in n_clusters:\n",
    "    evalResults.append(evalEM(X, y, n_cluster, \"kmeans\"))\n",
    "\n",
    "pyplot.plot(n_clusters, evalResults)\n",
    "\n",
    "_times.append(time.time())\n",
    "checkTime(TMAX_Q1C, \"1C\")\n",
    "pyplot.ylim([0.1, 0.8])\n",
    "pyplot.show()"
   ]
  },
  {
   "cell_type": "markdown",
   "id": "59a99ad1",
   "metadata": {
    "editable": false,
    "id": "00a8425d",
    "lang": "fr",
    "tags": []
   },
   "source": [
    "### Patron de code réponse à l'exercice Q1C"
   ]
  },
  {
   "cell_type": "markdown",
   "id": "4d69a837",
   "metadata": {
    "editable": false,
    "id": "e2555fec",
    "lang": "en",
    "tags": []
   },
   "source": [
    "### Q1C answer code template"
   ]
  },
  {
   "cell_type": "code",
   "execution_count": null,
   "id": "2e7cee4b",
   "metadata": {
    "editable": false,
    "id": "5dcf3bf3",
    "tags": []
   },
   "outputs": [],
   "source": [
    "_times.append(time.time())\n",
    "pyplot.figure()\n",
    "\n",
    "# *** TODO ***\n",
    "# Évaluez ici la performance de EM en utilisant la fonction `evalEM`\n",
    "# définie plus haut, en faisant varier le nombre de clusters entre 2 et 50\n",
    "# par incrément de 2 et en utilisant une initialisation par K-means.\n",
    "# Tracez les résultats obtenus sous forme de courbe.\n",
    "# Evaluate here the performance of EM using the `evalEM` function\n",
    "# defined above, varying the number of clusters between 2 and 50\n",
    "# in increments of 2 and using a K-means initialization.\n",
    "# Plot the results obtained as a curve.\n",
    "# ******\n",
    "\n",
    "_times.append(time.time())\n",
    "checkTime(TMAX_Q1C, \"1C\")\n",
    "pyplot.ylim([0.1, 0.8])\n",
    "pyplot.show()"
   ]
  },
  {
   "cell_type": "markdown",
   "id": "e7c64c3f",
   "metadata": {
    "editable": false,
    "id": "870eafe6",
    "lang": "fr"
   },
   "source": [
    "## Q1D\n",
    "En guise d'analyse de résultats obtenus aux trois sous-questions précédentes, répondez aux points suivants:\n",
    "1. Donnez le nombre de clusters à utiliser avec le résultat obtenu pour chacune des trois sous-questions précédentes. \n",
    "2. Expliquez pourquoi EM performe significativement mieux lorsque ses clusters sont initialisés en utilisant $K$-means.\n",
    "3. Expliquez le pic de performance à $K=2$ pour EM initialisé avec $K$-means."
   ]
  },
  {
   "cell_type": "markdown",
   "id": "14768826",
   "metadata": {
    "editable": false,
    "id": "7f6498e1",
    "lang": "en",
    "lines_to_next_cell": 2
   },
   "source": [
    "## Q1D\n",
    "To analyze results obtained from the previous three sub-questions, answer the following points:\n",
    "1. Give the number of clusters to use regarding the result obtained for each of the three previous sub-questions. \n",
    "2. Explain why EM performs significantly better when its clusters are initialized using $K$-means.\n",
    "3. Explain the peak performance at $K=2$ for EM initialized with $K$-means."
   ]
  },
  {
   "cell_type": "markdown",
   "id": "c9394611",
   "metadata": {
    "editable": false,
    "id": "6c7f6e40",
    "lang": "fr",
    "tags": []
   },
   "source": [
    "### Entrez votre solution à Q1D dans la cellule ci-dessous\n",
    "Patron de réponse en format markdown:\n",
    "~~~md\n",
    "1. Donnez le nombre de clusters à utiliser avec le résultat obtenu pour chacune des trois sous-questions précédentes.\n",
    "   - Q1A: ***Donnez ici le nombre de clusters à utiliser pour Q1A***\n",
    "   - Q1B: ***Donnez ici le nombre de clusters à utiliser pour Q1B***\n",
    "   - Q1C: ***Donnez ici le nombre de clusters à utiliser pour Q1C***\n",
    "\n",
    "2. Expliquez pourquoi EM performe significativement mieux lorsque ses clusters sont initialisés en utilisant $K$-means.\n",
    "***Donnez ici vos explications au point 2***\n",
    "\n",
    "3. Expliquez le pic de performance à $K=2$ pour EM initialisé avec $K$-means.\n",
    "***Donnez ici vos explications au point 3***\n",
    "~~~"
   ]
  },
  {
   "cell_type": "markdown",
   "id": "10dbcd9b",
   "metadata": {
    "editable": false,
    "id": "f7b09d6e",
    "lang": "en",
    "tags": []
   },
   "source": [
    "### Enter your solution to Q1D in the cell below\n",
    "Markdown answer template:\n",
    "~~~md\n",
    "1. Give the number of clusters to use regarding the result obtained for each of the three previous sub-questions. \n",
    "   - Q1A: ***Give here the number of clusters to use for Q1A***\n",
    "   - Q1B: ***Give here the number of clusters to use for Q1B***\n",
    "   - Q1C: ***Give here the number of clusters to use for Q1C***\n",
    "\n",
    "2. Explain why EM performs significantly better when its clusters are initialized using $K$-means.\n",
    "***Give here your explanations to point 2***\n",
    "\n",
    "3. Explain the peak performance at $K=2$ for EM initialized with $K$-means.\n",
    "***Give here your explanations to point 3***\n",
    "~~~"
   ]
  },
  {
   "cell_type": "markdown",
   "id": "be5a121b",
   "metadata": {
    "deletable": false,
    "id": "c0262c8e",
    "tags": [
     "user-answer-D5Q1D",
     "editable"
    ]
   },
   "source": [
    "1. Donnez le nombre de clusters à utiliser avec le résultat obtenu pour chacune des trois sous-questions précédentes. / Give the number of clusters to use regarding the result obtained for each of the three previous sub-questions. \n",
    "   - Q1A: 2\n",
    "   - Q1B: 3\n",
    "   - Q1C: 2\n",
    "\n",
    "2. Expliquez pourquoi EM performe significativement mieux lorsque ses clusters sont initialisés en utilisant $K$-means.\n",
    "En effet, avec l'initialisation K-means, les centroïdes sont près de leur point optimal. De ce fait, l'algorithme n'aura pas à faire beaucoup. Cependant, avec l'initialisation aléatoire, les centroides peuvent se trouver à des points loin de leur position optimale; ce qui oblige l'algorithme à itérer plusieurs fois pour bien positionner les centroïdes. L'aléatoire induit une certaine dispersion des centroïdes. \n",
    "\n",
    "3. Expliquez le pic de performance à  𝐾=2  pour EM initialisé avec  𝐾 -means. / Explain the peak performance at  𝐾=2  for EM initialized with  𝐾 -means. Donnez ici vos explications au point 3 / Give here your explanations to point 3 Ce pic de performance à K=2 peut s'expliquer par le fait le jeu de données est une distribution binaire c'est-à-dire la tumeur est soit bénigne soit maligne. Donc le centroide est vite trouvé pour une meilleure séparation des données. Cependant, une augmentation du nombre de clusters c'est-à-dire du nombre de type de tumeurs apporte du bruit qui va biaiser le clustering en ajoutant des classes \"fictives\".\n"
   ]
  }
 ],
 "metadata": {
  "PAX": {
   "userLang": "fr"
  },
  "celltoolbar": "",
  "jupytext": {
   "notebook_metadata_filter": "celltoolbar",
   "text_representation": {
    "extension": ".md",
    "format_name": "markdown",
    "format_version": "1.3",
    "jupytext_version": "1.11.4"
   }
  },
  "kernelspec": {
   "display_name": "Python 3",
   "language": "python",
   "name": "python3"
  },
  "language_info": {
   "codemirror_mode": {
    "name": "ipython",
    "version": 3
   },
   "file_extension": ".py",
   "mimetype": "text/x-python",
   "name": "python",
   "nbconvert_exporter": "python",
   "pygments_lexer": "ipython3",
   "version": "3.6.9"
  },
  "nbTranslate": {
   "displayLangs": [
    "*"
   ],
   "hotkey": "alt-t",
   "langInMainMenu": true,
   "sourceLang": "en",
   "targetLang": "fr",
   "useGoogleTranslate": true
  }
 },
 "nbformat": 4,
 "nbformat_minor": 5
}
